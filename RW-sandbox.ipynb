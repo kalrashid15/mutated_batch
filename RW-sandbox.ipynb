{
 "cells": [
  {
   "cell_type": "code",
   "execution_count": 5,
   "metadata": {},
   "outputs": [],
   "source": [
    "from cifo.problem.objective import ProblemObjective\n",
    "\n",
    "# -------------------------------------------------------------------------------------------------\n",
    "# Population Class\n",
    "# -------------------------------------------------------------------------------------------------\n",
    "class Population:\n",
    "    \"\"\"\n",
    "    Population - \n",
    "    \"\"\"\n",
    "    # ---------------------------------------------------------------------------------------------\n",
    "    def __init__( self, problem , maximum_size, solution_list):\n",
    "        #self._problem   = problem\n",
    "        self._objective = problem\n",
    "        self._max_size  = maximum_size\n",
    "        self._list      = solution_list\n",
    "        self._fittest   = None\n",
    "        self._sorted    = False\n",
    "\n",
    "    # ---------------------------------------------------------------------------------------------     \n",
    "    @property\n",
    "    def fittest(self):\n",
    "        self.sort()\n",
    "        if len(self._list) > 0 :\n",
    "            return self._list[ -1 ]\n",
    "        return None\n",
    "\n",
    "    @property\n",
    "    def least_fit(self):\n",
    "        self.sort()\n",
    "        if len(self._list) > 0 :\n",
    "            return self._list[ 0 ]\n",
    "        return None\n",
    "\n",
    "    def replace_leastfit(self, solution ):\n",
    "        self.sort()\n",
    "        self._list[ 0 ] = solution\n",
    "\n",
    "    @property\n",
    "    def size(self):\n",
    "        return len(self._list)\n",
    "    \n",
    "    @property\n",
    "    def has_space(self):\n",
    "        return len(self._list) < self._max_size\n",
    "\n",
    "    @property\n",
    "    def is_full(self):\n",
    "        return len(self._list) >= self._max_size\n",
    "\n",
    "\n",
    "    def add(self, solution):\n",
    "        self._list.append( solution )    \n",
    "\n",
    "    def get(self, index):\n",
    "        \"\"\"\n",
    "        It returns a solution of the population according to the index\n",
    "        \"\"\"\n",
    "        if index >= 0  and index < len(self._list):\n",
    "            return self._list[ index ]\n",
    "        else: \n",
    "            return None \n",
    "\n",
    "    @property\n",
    "    def solutions(self):\n",
    "        \"\"\"\n",
    "        Solution list (of the population)\n",
    "        \"\"\"\n",
    "        return self._list\n",
    "\n",
    "    # \n",
    "    def sort(self):\n",
    "        \"\"\"\n",
    "        it sorts the population in ascending order of fittest solution in accordance with the objective\n",
    "\n",
    "        @ objective\n",
    "        - Maximization \n",
    "        - Minimization\n",
    "        - Multi-objective { set of objectives }\n",
    "        \"\"\"\n",
    "    \n",
    "\n",
    "        if self._objective == ProblemObjective.Maximization :\n",
    "            for i in range (0, len( self._list )) :\n",
    "                for j in range (i, len (self._list )) :\n",
    "                    if self._list[ i ].fitness > self._list[ j ].fitness:\n",
    "                        swap = self._list[ j ]\n",
    "                        self._list[ j ] = self._list[ i ]\n",
    "                        self._list[ i ] = swap\n",
    "                        \n",
    "        elif self._objective == ProblemObjective.Minimization :    \n",
    "            for i in range (0, len( self._list )) :\n",
    "                for j in range (i, len (self._list )) :\n",
    "                    if self._list[ i ].fitness < self._list[ j ].fitness:\n",
    "                        swap =self._list[ j ]\n",
    "                        self._list[ j ] = self._list[ i ]\n",
    "                        self._list[ i ] = swap                  \n",
    "\n",
    "        self._sorted = True"
   ]
  },
  {
   "cell_type": "code",
   "execution_count": 59,
   "metadata": {},
   "outputs": [],
   "source": [
    "problem = 'Maximization'\n",
    "maximum_size = 30\n",
    "solution_list = [[1,2,3], [2,3,4], [15,133,1],[19,23,36],[1,72,93],[1,2,0]]\n",
    "\n",
    "\n",
    "\n",
    "P1 = Population(problem , maximum_size, solution_list)"
   ]
  },
  {
   "cell_type": "code",
   "execution_count": 60,
   "metadata": {},
   "outputs": [],
   "source": [
    "from random import uniform\n",
    "def r_select(population, objective):\n",
    "    \"\"\"\n",
    "    select two different parents using roulette wheel\n",
    "    \"\"\"\n",
    "    index1 = _select_index(population, objective)\n",
    "    index2 = index1\n",
    "\n",
    "    while index2 == index1:\n",
    "        index2 = _select_index( population, objective )\n",
    "    print(index1)\n",
    "    print(index2)\n",
    "    return population.get( index1 ), population.get( index2 )\n",
    "\n",
    "\n",
    "\n",
    "def _select_index(population, objective):\n",
    "    # for Min: calculate fitness 1/50, 1/30, 1/20 new values. Calculate values (sum of new values). Divide new values by sum of new values\n",
    "\n",
    "    # Get the Total Fitness (all solutions in the population) to calculate the chances proportional to fitness\n",
    "    total_fitness = 0\n",
    "    solution_fitness_min = 0\n",
    "    for solution in population.solutions:\n",
    "        fitness = sum(solution)\n",
    "        total_fitness += fitness\n",
    "        solution_fitness_min += 1/sum(solution)\n",
    "\n",
    "    # spin the wheel\n",
    "    wheel_position = uniform( 0, 1 )\n",
    "\n",
    "    # calculate the position which wheel should stop\n",
    "    stop_position = 0\n",
    "    index = 0\n",
    "\n",
    "    \"\"\"\n",
    "    if objective == ProblemObjective.Maximization:\n",
    "\n",
    "        print(objective)\n",
    "        breakpoint\n",
    "    \"\"\"\n",
    "    for solution in population.solutions :\n",
    "        #total_fit = sum(population)\n",
    "        if objective == ProblemObjective.Maximization:\n",
    "            stop_position += (sum(solution) / total_fitness)\n",
    "            #stop_position += sum(solution)\n",
    "        elif objective == ProblemObjective.Minimization:\n",
    "            stop_position += 1 / sum(solution) / solution_fitness_min\n",
    "        \"\"\"\n",
    "        Temp fix below\n",
    "        \n",
    "        stop_position += 1 / solution.fitness / solution_fitness_min\n",
    "        \"\"\"\n",
    "        #stop_position +=(1/solution.fitness)\n",
    "        if stop_position > wheel_position :\n",
    "            break\n",
    "        index += 1    \n",
    "        print(index)\n",
    "    return index"
   ]
  },
  {
   "cell_type": "code",
   "execution_count": 61,
   "metadata": {},
   "outputs": [
    {
     "name": "stdout",
     "output_type": "stream",
     "text": [
      "[[1, 2, 3], [2, 3, 4], [15, 133, 1], [19, 23, 36], [1, 72, 93], [1, 2, 0]]\n",
      "1\n",
      "2\n",
      "3\n",
      "4\n",
      "5\n",
      "5\n",
      "0\n"
     ]
    }
   ],
   "source": [
    "print(P1.solutions)\n",
    "\n",
    "obj1 = 'Minimization'\n",
    "params = 'p'\n",
    "r1 = r_select(P1, objective = obj1)\n"
   ]
  },
  {
   "cell_type": "code",
   "execution_count": 36,
   "metadata": {},
   "outputs": [],
   "source": [
    "def partially_mapped_crossover(problem, chromA, chromB, childIndex):\n",
    "    j = 0\n",
    "    item1 = 0\n",
    "    item2 = 0\n",
    "    pos1 = 0\n",
    "    pos2 = 0\n",
    "    thisChromo = Chromosome(self.mCityCount)\n",
    "    thisChromo = self.population[chromA]\n",
    "    thatChromo = Chromosome(self.mCityCount)\n",
    "    thatChromo = self.population[chromB]\n",
    "    \n",
    "    newChromo = Chromosome(self.mCityCount)\n",
    "    newChromo = self.population[childIndex]\n",
    "\n",
    "    crossPoint1 = random.randrange(self.mCityCount);\n",
    "    crossPoint2 = self.get_exclusive_random_integer(self.mCityCount, crossPoint1)\n",
    "    \n",
    "    if crossPoint2 < crossPoint1:\n",
    "        j = crossPoint1\n",
    "        crossPoint1 = crossPoint2\n",
    "        crossPoint2 = j\n",
    "\n",
    "    # Copy parentA genes to offspring.\n",
    "    for i in range(len(thisChromo)):\n",
    "        newChromo.set_data(i, thisChromo.get_data(i))\n",
    "\n",
    "    for i in range(crossPoint1, crossPoint2 + 1):\n",
    "        # Get the two items to swap.\n",
    "        item1 = thisChromo.get_data(i)\n",
    "        item2 = thatChromo.get_data(i)\n",
    "\n",
    "        # Get the items' positions in the offspring.\n",
    "        for k in range(self.mCityCount):\n",
    "            if newChromo.get_data(k) == item1:\n",
    "                pos1 = k\n",
    "            elif newChromo.get_data(k) == item2:\n",
    "                pos2 = k\n",
    "\n",
    "        # Swap them.\n",
    "        if item1 != item2:\n",
    "            newChromo.set_data(pos1, item2)\n",
    "            newChromo.set_data(pos2, item1)\n",
    "\n",
    "    return"
   ]
  },
  {
   "cell_type": "code",
   "execution_count": 62,
   "metadata": {},
   "outputs": [],
   "source": [
    "import pandas as pd"
   ]
  },
  {
   "cell_type": "code",
   "execution_count": 63,
   "metadata": {},
   "outputs": [],
   "source": [
    "df_test = pd.DataFrame()"
   ]
  },
  {
   "cell_type": "code",
   "execution_count": 65,
   "metadata": {},
   "outputs": [],
   "source": [
    "d_var = {\n",
    "    'test': [4,5,6,7],\n",
    "    'vari': ['a','b','c','d']\n",
    "}"
   ]
  },
  {
   "cell_type": "code",
   "execution_count": 66,
   "metadata": {},
   "outputs": [
    {
     "data": {
      "text/plain": [
       "{'test': [4, 5, 6, 7], 'vari': ['a', 'b', 'c', 'd']}"
      ]
     },
     "execution_count": 66,
     "metadata": {},
     "output_type": "execute_result"
    }
   ],
   "source": [
    "d_var"
   ]
  },
  {
   "cell_type": "code",
   "execution_count": 67,
   "metadata": {},
   "outputs": [],
   "source": [
    "t_list = [d_var, df_test]"
   ]
  },
  {
   "cell_type": "code",
   "execution_count": 69,
   "metadata": {},
   "outputs": [
    {
     "data": {
      "text/plain": [
       "{'test': [4, 5, 6, 7], 'vari': ['a', 'b', 'c', 'd']}"
      ]
     },
     "execution_count": 69,
     "metadata": {},
     "output_type": "execute_result"
    }
   ],
   "source": [
    "t_list[0]"
   ]
  },
  {
   "cell_type": "code",
   "execution_count": 74,
   "metadata": {},
   "outputs": [],
   "source": [
    "n = range(0,54)"
   ]
  },
  {
   "cell_type": "code",
   "execution_count": 75,
   "metadata": {},
   "outputs": [
    {
     "data": {
      "text/plain": [
       "range(0, 54)"
      ]
     },
     "execution_count": 75,
     "metadata": {},
     "output_type": "execute_result"
    }
   ],
   "source": [
    "n"
   ]
  },
  {
   "cell_type": "code",
   "execution_count": null,
   "metadata": {},
   "outputs": [],
   "source": []
  }
 ],
 "metadata": {
  "kernelspec": {
   "display_name": "Python 3",
   "language": "python",
   "name": "python3"
  },
  "language_info": {
   "codemirror_mode": {
    "name": "ipython",
    "version": 3
   },
   "file_extension": ".py",
   "mimetype": "text/x-python",
   "name": "python",
   "nbconvert_exporter": "python",
   "pygments_lexer": "ipython3",
   "version": "3.7.3"
  }
 },
 "nbformat": 4,
 "nbformat_minor": 2
}
