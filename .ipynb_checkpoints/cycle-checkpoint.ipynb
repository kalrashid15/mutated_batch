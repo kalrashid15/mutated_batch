{
 "cells": [
  {
   "cell_type": "code",
   "execution_count": 4,
   "metadata": {},
   "outputs": [],
   "source": [
    "class solution:\n",
    "    def __init__(self):\n",
    "        pass\n",
    "    \n",
    "    def representation(solution):\n",
    "        return list(solution)"
   ]
  },
  {
   "cell_type": "code",
   "execution_count": 9,
   "metadata": {},
   "outputs": [],
   "source": [
    "from copy import deepcopy\n",
    "import numpy as np\n",
    "\n",
    "class Chromosome():\n",
    "    \"\"\"\n",
    "    Description of class `Chromosome` goes here\n",
    "    \"\"\"\n",
    "    def __init__(self, genes, id_=None, fitness=-1):\n",
    "        self.id_ = id_\n",
    "        self.genes = genes\n",
    "        self.fitness = fitness\n",
    "\n",
    "    def describe(self):\n",
    "        \"\"\"\n",
    "        Prints the ID, fitness, and genes\n",
    "        \"\"\"\n",
    "        #print('ID=#{}, fitenss={}, \\ngenes=\\n{}'.format(self.id, self.fitness, self.genes))\n",
    "        print(f\"ID=#{self.id_}, Fitness={self.fitness}, \\nGenes=\\n{self.genes}\")\n",
    "\n",
    "    def get_chrom_length(self):\n",
    "        \"\"\"\n",
    "        Returns the length of `self.genes`\n",
    "        \"\"\"\n",
    "        return len(self.genes)\n",
    "\n",
    "def cycle_crossover(problem, solution1, solution2):\n",
    "    \"\"\"\n",
    "    This function takes two parents, and performs Cycle crossover on them. \n",
    "    pc: The probability of crossover (control parameter)\n",
    "    \"\"\"\n",
    "    \n",
    "    parent_one = Chromosome(genes=np.array(solution1.representation), id_=0, fitness=125.2)\n",
    "    parent_two = Chromosome(genes=np.array(solution2.representation), id_=1, fitness=125.2)\n",
    "    #parent_one = Chromosome(genes=np.array(solution1), id_=0, fitness=125.2)\n",
    "    #parent_two = Chromosome(genes=np.array(solution2), id_=1, fitness=125.2)    \n",
    "    \n",
    "    chrom_length = Chromosome.get_chrom_length(parent_one)\n",
    "    print(\"\\nParents\")\n",
    "    print(\"=================================================\")\n",
    "    Chromosome.describe(parent_one)\n",
    "    Chromosome.describe(parent_two)\n",
    "    offspring1 = Chromosome(genes=np.array([-1] * chrom_length), id_=0, fitness=125.2)\n",
    "    offspring2 = Chromosome(genes=np.array([-1] * chrom_length), id_=1, fitness=125.2)\n",
    "\n",
    "    if np.random.random() < 1:  # if pc is greater than random number\n",
    "        p1_copy = parent_one.genes.tolist()\n",
    "        p2_copy = parent_two.genes.tolist()\n",
    "        swap = True\n",
    "        count = 0\n",
    "        pos = 0\n",
    "\n",
    "        while True:\n",
    "            if count > chrom_length:\n",
    "                break\n",
    "            for i in range(chrom_length):\n",
    "                if offspring1.genes[i] == -1:\n",
    "                    pos = i\n",
    "                    break\n",
    "\n",
    "            if swap:\n",
    "                while True:\n",
    "                    offspring1.genes[pos] = parent_one.genes[pos]\n",
    "                    count += 1\n",
    "                    pos = parent_two.genes.tolist().index(parent_one.genes[pos])\n",
    "                    if p1_copy[pos] == -1:\n",
    "                        swap = False\n",
    "                        break\n",
    "                    p1_copy[pos] = -1\n",
    "            else:\n",
    "                while True:\n",
    "                    offspring1.genes[pos] = parent_two.genes[pos]\n",
    "                    count += 1\n",
    "                    pos = parent_one.genes.tolist().index(parent_two.genes[pos])\n",
    "                    if p2_copy[pos] == -1:\n",
    "                        swap = True\n",
    "                        break\n",
    "                    p2_copy[pos] = -1\n",
    "\n",
    "        for i in range(chrom_length): #for the second child\n",
    "            if offspring1.genes[i] == parent_one.genes[i]:\n",
    "                offspring2.genes[i] = parent_two.genes[i]\n",
    "            else:\n",
    "                offspring2.genes[i] = parent_one.genes[i]\n",
    "\n",
    "        for i in range(chrom_length): #Special mode\n",
    "            if offspring1.genes[i] == -1:\n",
    "                if p1_copy[i] == -1: #it means that the ith gene from p1 has been already transfered\n",
    "                    offspring1.genes[i] = parent_two.genes[i]\n",
    "                else:\n",
    "                    offspring1.genes[i] = parent_one.genes[i]\n",
    "\n",
    "    else:  # if pc is less than random number then don't make any change\n",
    "        offspring1 = deepcopy(parent_one)\n",
    "        offspring2 = deepcopy(parent_two)\n",
    "    return offspring1, offspring2\n",
    "\n"
   ]
  },
  {
   "cell_type": "code",
   "execution_count": 10,
   "metadata": {},
   "outputs": [],
   "source": [
    "s1 = solution.representation([1,7,2,6,3,4,5])\n"
   ]
  },
  {
   "cell_type": "code",
   "execution_count": 13,
   "metadata": {},
   "outputs": [
    {
     "name": "stdout",
     "output_type": "stream",
     "text": [
      "\n",
      "Parents\n",
      "=================================================\n",
      "ID=#0, Fitness=125.2, \n",
      "Genes=\n",
      "[1 7 2 6 3 4 5]\n",
      "ID=#1, Fitness=125.2, \n",
      "Genes=\n",
      "[2 3 6 1 7 4 5]\n",
      "ID=#0, Fitness=125.2, \n",
      "Genes=\n",
      "[1 3 2 6 7 4 5]\n",
      "ID=#1, Fitness=125.2, \n",
      "Genes=\n",
      "[2 7 6 1 3 4 5]\n"
     ]
    }
   ],
   "source": [
    "s1 = [1,7,2,6,3,4,5]\n",
    "s2 = [2,3,6,1,7,4,5]\n",
    "\n",
    "\n",
    "CROSS = cycle_crossover(s1, s2)\n",
    "\n",
    "for index, _ in enumerate(CROSS):\n",
    "    Chromosome.describe(CROSS[index])"
   ]
  },
  {
   "cell_type": "code",
   "execution_count": 14,
   "metadata": {},
   "outputs": [
    {
     "ename": "AttributeError",
     "evalue": "'dict' object has no attribute 'id'",
     "output_type": "error",
     "traceback": [
      "\u001b[0;31m---------------------------------------------------------------------------\u001b[0m",
      "\u001b[0;31mAttributeError\u001b[0m                            Traceback (most recent call last)",
      "\u001b[0;32m<ipython-input-14-a04486f7ad5b>\u001b[0m in \u001b[0;36m<module>\u001b[0;34m\u001b[0m\n\u001b[1;32m      2\u001b[0m \u001b[0mp2\u001b[0m \u001b[0;34m=\u001b[0m \u001b[0;34m{\u001b[0m\u001b[0;34m}\u001b[0m\u001b[0;34m\u001b[0m\u001b[0;34m\u001b[0m\u001b[0m\n\u001b[1;32m      3\u001b[0m \u001b[0;34m\u001b[0m\u001b[0m\n\u001b[0;32m----> 4\u001b[0;31m \u001b[0mp1\u001b[0m\u001b[0;34m.\u001b[0m\u001b[0mid\u001b[0m \u001b[0;34m=\u001b[0m \u001b[0;36m0\u001b[0m\u001b[0;34m\u001b[0m\u001b[0;34m\u001b[0m\u001b[0m\n\u001b[0m\u001b[1;32m      5\u001b[0m \u001b[0mp2\u001b[0m\u001b[0;34m.\u001b[0m\u001b[0mid\u001b[0m \u001b[0;34m=\u001b[0m \u001b[0;36m1\u001b[0m\u001b[0;34m\u001b[0m\u001b[0;34m\u001b[0m\u001b[0m\n\u001b[1;32m      6\u001b[0m \u001b[0;34m\u001b[0m\u001b[0m\n",
      "\u001b[0;31mAttributeError\u001b[0m: 'dict' object has no attribute 'id'"
     ]
    }
   ],
   "source": [
    "p1 = {}\n",
    "p2 = {}\n",
    "\n",
    "p1.id = 0\n",
    "p2.id = 1\n",
    "\n",
    "p1.fitness = 125.2\n",
    "p2.fitness = 125.2\n",
    "\n",
    "p1.genes = np.array(parent_one)\n",
    "p2.genes = np.array(parent_two)"
   ]
  },
  {
   "cell_type": "code",
   "execution_count": 16,
   "metadata": {},
   "outputs": [],
   "source": [
    "parent_one = [1,3,4,5,6,7,10,8,9,55]\n",
    "parent_two = [3,4,1,5,6,7,11,4,9,10]"
   ]
  },
  {
   "cell_type": "code",
   "execution_count": 17,
   "metadata": {},
   "outputs": [],
   "source": [
    "p1 = {\n",
    "\t\"id\" : 0,\n",
    "\t\"fitness\" : 125.4,\n",
    "\t\"genes\" : np.array(parent_one),\n",
    "\t}"
   ]
  },
  {
   "cell_type": "code",
   "execution_count": 18,
   "metadata": {},
   "outputs": [],
   "source": [
    "p2 = {\n",
    "\t\"id\" : 1,\n",
    "\t\"fitness\" : 125.4,\n",
    "\t\"genes\" : np.array(parent_two),\n",
    "\t}"
   ]
  },
  {
   "cell_type": "code",
   "execution_count": 22,
   "metadata": {},
   "outputs": [
    {
     "name": "stdout",
     "output_type": "stream",
     "text": [
      "10\n",
      "=================================================\n"
     ]
    }
   ],
   "source": [
    "chrom_length = len(p1['genes'])\n",
    "print(chrom_length)\n",
    "print(\"=================================================\")\n",
    "\n",
    "#offspring1 = Chromosome(genes=np.array([-1] * chrom_length), id_=0, fitness=125.2)\n",
    "#offspring2 = Chromosome(genes=np.array([-1] * chrom_length), id_=1, fitness=125.2)"
   ]
  },
  {
   "cell_type": "code",
   "execution_count": 25,
   "metadata": {},
   "outputs": [],
   "source": [
    "off1 = {\n",
    "\t\"id\" : 0,\n",
    "\t\"fitness\" : 125.4,\n",
    "\t\"genes\" : np.array([-1] * chrom_length),\n",
    "\t}\n",
    "off2 = {\n",
    "\t\"id\" : 0,\n",
    "\t\"fitness\" : 125.4,\n",
    "\t\"genes\" : np.array([-1] * chrom_length),\n",
    "\t}"
   ]
  },
  {
   "cell_type": "code",
   "execution_count": 27,
   "metadata": {},
   "outputs": [
    {
     "ename": "AttributeError",
     "evalue": "'list' object has no attribute 'genes'",
     "output_type": "error",
     "traceback": [
      "\u001b[0;31m---------------------------------------------------------------------------\u001b[0m",
      "\u001b[0;31mAttributeError\u001b[0m                            Traceback (most recent call last)",
      "\u001b[0;32m<ipython-input-27-895ad9d146d6>\u001b[0m in \u001b[0;36m<module>\u001b[0;34m\u001b[0m\n\u001b[1;32m     16\u001b[0m         \u001b[0;32mif\u001b[0m \u001b[0mswap\u001b[0m\u001b[0;34m:\u001b[0m\u001b[0;34m\u001b[0m\u001b[0;34m\u001b[0m\u001b[0m\n\u001b[1;32m     17\u001b[0m             \u001b[0;32mwhile\u001b[0m \u001b[0;32mTrue\u001b[0m\u001b[0;34m:\u001b[0m\u001b[0;34m\u001b[0m\u001b[0;34m\u001b[0m\u001b[0m\n\u001b[0;32m---> 18\u001b[0;31m                 \u001b[0moffspring1\u001b[0m\u001b[0;34m.\u001b[0m\u001b[0mgenes\u001b[0m\u001b[0;34m[\u001b[0m\u001b[0mpos\u001b[0m\u001b[0;34m]\u001b[0m \u001b[0;34m=\u001b[0m \u001b[0mparent_one\u001b[0m\u001b[0;34m.\u001b[0m\u001b[0mgenes\u001b[0m\u001b[0;34m[\u001b[0m\u001b[0mpos\u001b[0m\u001b[0;34m]\u001b[0m\u001b[0;34m\u001b[0m\u001b[0;34m\u001b[0m\u001b[0m\n\u001b[0m\u001b[1;32m     19\u001b[0m                 \u001b[0mcount\u001b[0m \u001b[0;34m+=\u001b[0m \u001b[0;36m1\u001b[0m\u001b[0;34m\u001b[0m\u001b[0;34m\u001b[0m\u001b[0m\n\u001b[1;32m     20\u001b[0m                 \u001b[0mpos\u001b[0m \u001b[0;34m=\u001b[0m \u001b[0mparent_two\u001b[0m\u001b[0;34m.\u001b[0m\u001b[0mgenes\u001b[0m\u001b[0;34m.\u001b[0m\u001b[0mtolist\u001b[0m\u001b[0;34m(\u001b[0m\u001b[0;34m)\u001b[0m\u001b[0;34m.\u001b[0m\u001b[0mindex\u001b[0m\u001b[0;34m(\u001b[0m\u001b[0mparent_one\u001b[0m\u001b[0;34m.\u001b[0m\u001b[0mgenes\u001b[0m\u001b[0;34m[\u001b[0m\u001b[0mpos\u001b[0m\u001b[0;34m]\u001b[0m\u001b[0;34m)\u001b[0m\u001b[0;34m\u001b[0m\u001b[0;34m\u001b[0m\u001b[0m\n",
      "\u001b[0;31mAttributeError\u001b[0m: 'list' object has no attribute 'genes'"
     ]
    }
   ],
   "source": [
    "if np.random.random() < 1:  # if pc is greater than random number\n",
    "    p1_copy = p1['genes'].tolist()\n",
    "    p2_copy = p2['genes'].tolist()\n",
    "    swap = True\n",
    "    count = 0\n",
    "    pos = 0\n",
    "\n",
    "    while True:\n",
    "        if count > chrom_length:\n",
    "            break\n",
    "        for i in range(chrom_length):\n",
    "            if off1['genes'][i] == -1:\n",
    "                pos = i\n",
    "                break\n",
    "\n",
    "        if swap:\n",
    "            while True:\n",
    "                off2['genes'][pos] = parent_one.genes[pos]\n",
    "                count += 1\n",
    "                pos = parent_two.genes.tolist().index(parent_one.genes[pos])\n",
    "                if p1_copy[pos] == -1:\n",
    "                    swap = False\n",
    "                    break\n",
    "                p1_copy[pos] = -1\n",
    "        else:\n",
    "            while True:\n",
    "                offspring1.genes[pos] = parent_two.genes[pos]\n",
    "                count += 1\n",
    "                pos = parent_one.genes.tolist().index(parent_two.genes[pos])\n",
    "                if p2_copy[pos] == -1:\n",
    "                    swap = True\n",
    "                    break\n",
    "                p2_copy[pos] = -1\n",
    "\n",
    "    for i in range(chrom_length): #for the second child\n",
    "        if offspring1.genes[i] == parent_one.genes[i]:\n",
    "            offspring2.genes[i] = parent_two.genes[i]\n",
    "        else:\n",
    "            offspring2.genes[i] = parent_one.genes[i]\n",
    "\n",
    "    for i in range(chrom_length): #Special mode\n",
    "        if offspring1.genes[i] == -1:\n",
    "            if p1_copy[i] == -1: #it means that the ith gene from p1 has been already transfered\n",
    "                offspring1.genes[i] = parent_two.genes[i]\n",
    "            else:\n",
    "                offspring1.genes[i] = parent_one.genes[i]\n",
    "\n",
    "else:  # if pc is less than random number then don't make any change\n",
    "    offspring1 = deepcopy(parent_one)\n",
    "    offspring2 = deepcopy(parent_two)\n",
    "return offspring1, offspring2\n"
   ]
  },
  {
   "cell_type": "code",
   "execution_count": null,
   "metadata": {},
   "outputs": [],
   "source": []
  }
 ],
 "metadata": {
  "kernelspec": {
   "display_name": "Python 3",
   "language": "python",
   "name": "python3"
  },
  "language_info": {
   "codemirror_mode": {
    "name": "ipython",
    "version": 3
   },
   "file_extension": ".py",
   "mimetype": "text/x-python",
   "name": "python",
   "nbconvert_exporter": "python",
   "pygments_lexer": "ipython3",
   "version": "3.7.3"
  }
 },
 "nbformat": 4,
 "nbformat_minor": 2
}
