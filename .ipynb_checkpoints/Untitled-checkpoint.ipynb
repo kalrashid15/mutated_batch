{
 "cells": [
  {
   "cell_type": "code",
   "execution_count": null,
   "metadata": {},
   "outputs": [],
   "source": [
    "\n"
   ]
  },
  {
   "cell_type": "code",
   "execution_count": 113,
   "metadata": {},
   "outputs": [],
   "source": [
    "# -*- coding: utf-8 -*-\n",
    "# -------------------------------------------------------------------------------------------------\n",
    "\"\"\"\n",
    "Solution\n",
    "---------\n",
    "\n",
    "Content: \n",
    "\n",
    "▶ class LinearSolution\n",
    "\n",
    "▶ class Encoding\n",
    "\n",
    "▶ class EncodingDataType\n",
    "\n",
    "─────────────────────────────────────────────────────────────────────────\n",
    "\n",
    "CIFO - Computation Intelligence for Optimization\n",
    "\n",
    "Author: Fernando A J Peres - fperes@novaims.unl.pt - (2019) version L4.0\n",
    "\n",
    "\"\"\"\n",
    "# -------------------------------------------------------------------------------------------------\n",
    "\n",
    "# import\n",
    "from copy import deepcopy\n",
    "from cifo.problem.objective import ProblemObjective\n",
    "# /\\/\\/\\/\\/\\/\\/\\/\\/\\/\\/\\/\\/\\/\\/\\/\\/\\/\\/\\/\\/\\/\\/\\/\\/\\/\\/\\/\\/\\/\\/\\/\\/\\/\\/\\/\\/\\/\\/\\/\\/\\/\\/\\/\\/\\/\\/\\/\\/\n",
    "# C O D E\n",
    "# /\\/\\/\\/\\/\\/\\/\\/\\/\\/\\/\\/\\/\\/\\/\\/\\/\\/\\/\\/\\/\\/\\/\\/\\/\\/\\/\\/\\/\\/\\/\\/\\/\\/\\/\\/\\/\\/\\/\\/\\/\\/\\/\\/\\/\\/\\/\\/\\/\n",
    "\n",
    "# -------------------------------------------------------------------------------------------------\n",
    "# Class: LinearSolution\n",
    "# -------------------------------------------------------------------------------------------------\n",
    "class LinearSolution:\n",
    "    \"\"\"\n",
    "    Solutions that can be represented as a linear solution (as an array or a list)\n",
    "    \"\"\"\n",
    "    # Constructor\n",
    "    #----------------------------------------------------------------------------------------------    \n",
    "    def __init__(self, representation, encoding_rule, is_single_objective = True, id = [0,0] ):\n",
    "        self._id                    = id\n",
    "        self._representation        = representation\n",
    "        self._encoding_rule         = encoding_rule\n",
    "        self._fitness               = 0\n",
    "        self._is_fitness_calculated = False\n",
    "        self._encoding              = Encoding(encoding_rule)\n",
    "\n",
    "    @property\n",
    "    def id(self):\n",
    "        return self._id\n",
    "        \n",
    "    @id.setter\n",
    "    def id(self, id):\n",
    "        self._id = id    \n",
    "    # representation\n",
    "    #----------------------------------------------------------------------------------------------\n",
    "    @property\n",
    "    def representation(self):\n",
    "        return self._representation\n",
    "  \n",
    "    @representation.setter\n",
    "    def representation(self, representation):\n",
    "        self._representation = representation\n",
    "\n",
    "    # encoding_rule\n",
    "    #----------------------------------------------------------------------------------------------\n",
    "    @property\n",
    "    def encoding_rule(self):\n",
    "        return self._encoding_rule\n",
    "    \n",
    "    @encoding_rule.setter\n",
    "    def encoding_rule(self, encoding_rule):\n",
    "        self._encoding_rule = encoding_rule\n",
    "        self._encoding = Encoding(encoding_rule)\n",
    "\n",
    "    # Fitness\n",
    "    #----------------------------------------------------------------------------------------------\n",
    "    @property \n",
    "    def fitness(self):\n",
    "        return self._fitness\n",
    "\n",
    "    @fitness.setter \n",
    "    def fitness(self, fitness):\n",
    "        self._fitness = fitness\n",
    "\n",
    "    def reset_fitness(self):\n",
    "        self._fitness = 0\n",
    "    \n",
    "    #def clone(self):\n",
    "    #    return deepcopy(self)\n",
    "\n",
    "    @property\n",
    "    def encoding(self):\n",
    "        return self._encoding\n",
    "\n",
    "    def __str__(self):\n",
    "        return f\"Rep: {self._representation} - Fitness: {self.fitness} \" \n",
    "\n",
    "\n",
    "# -------------------------------------------------------------------------------------------------\n",
    "# Class: Encoding Definition\n",
    "# -------------------------------------------------------------------------------------------------\n",
    "class Encoding():\n",
    "    \n",
    "    # constructor\n",
    "    #----------------------------------------------------------------------------------------------\n",
    "    def __init__(self, encoding_rule ):\n",
    "        \"\"\"\n",
    "        Encoding Constructor\n",
    "        \n",
    "        It creates an Encoding using the encoding rule dictionary:\n",
    "        {\n",
    "            \"Size\"         : <INTEGER-NUMBER>,\n",
    "            \"Is ordered\"   : <BOOLEAN>,\n",
    "            \"Can repeat\"   : <BOOLEAN>,\n",
    "            \"Data\"         : <LIST>\n",
    "            \"Data Type\"    : <STRING: \"Choices\" or \"Interval\">\n",
    "        }\n",
    "\n",
    "        \"\"\"\n",
    "        self._size = 0\n",
    "        if \"Size\" in encoding_rule: \n",
    "            self._size = encoding_rule[\"Size\"]\n",
    "        \n",
    "        self._is_ordered = False\n",
    "        if \"Is ordered\"  in encoding_rule: \n",
    "            self._is_ordered = encoding_rule[\"Is ordered\"]\n",
    "        \n",
    "        self._can_repeat = True\n",
    "        if \"Can repeat\" in encoding_rule: self._can_repeat = encoding_rule[\"Can repeat\"]\n",
    "        \n",
    "        self._encoding_data = []\n",
    "        if \"Data\" in encoding_rule: self._encoding_data = encoding_rule[\"Data\"]\n",
    "        \n",
    "        self._encoding_type = \"\"\n",
    "        if \"Data Type\" in encoding_rule: self._encoding_type = encoding_rule[\"Data Type\"]\n",
    "\n",
    "    #----------------------------------------------------------------------------------------------\n",
    "    @property\n",
    "    def size(self):\n",
    "        \"\"\"\n",
    "        size of the solution representation\n",
    "        \"\"\"\n",
    "        return self._size\n",
    "    \n",
    "    # ---------------------------------------------------------------------------------------------    \n",
    "    @property\n",
    "    def is_ordered(self):\n",
    "        \"\"\"\n",
    "        The order of the elements matter to define a solution?\n",
    "        \"\"\"\n",
    "        return self._is_ordered\n",
    "\n",
    "    # ---------------------------------------------------------------------------------------------   \n",
    "    @property\n",
    "    def can_repeat_elements(self):\n",
    "        \"\"\"\n",
    "        The elements can be repeated in a solution representation\n",
    "        \"\"\"\n",
    "        return self._can_repeat\n",
    "\n",
    "    # ---------------------------------------------------------------------------------------------    \n",
    "    @property\n",
    "    def encoding_data(self):\n",
    "        \"\"\"\n",
    "        The encoding data, can be the possible elements or an interval (min-max)\n",
    "        \"\"\"\n",
    "        return self._encoding_data\n",
    "\n",
    "    # ---------------------------------------------------------------------------------------------\n",
    "    @encoding_data.setter\n",
    "    def encoding_data(self, data):\n",
    "        self._encoding_data = data\n",
    "\n",
    "    # ---------------------------------------------------------------------------------------------\n",
    "    @property\n",
    "    def encoding_type(self):\n",
    "        \"\"\"\n",
    "        The type of the encoding: choices or interval(min..max)\n",
    "        \"\"\"\n",
    "        return self._encoding_type\n",
    "\n",
    "# -------------------------------------------------------------------------------------------------\n",
    "# Encoding Data Type\n",
    "# -------------------------------------------------------------------------------------------------   \n",
    "class EncodingDataType:\n",
    "    choices = \"Choices\"\n",
    "    min_max = \"Interval\" # \"Min_Max\"\n",
    "    pattern = \"Pattern\"\n",
    "    \n"
   ]
  },
  {
   "cell_type": "code",
   "execution_count": null,
   "metadata": {},
   "outputs": [],
   "source": []
  },
  {
   "cell_type": "code",
   "execution_count": 114,
   "metadata": {},
   "outputs": [
    {
     "data": {
      "text/plain": [
       "0.21299013366174468"
      ]
     },
     "execution_count": 114,
     "metadata": {},
     "output_type": "execute_result"
    }
   ],
   "source": [
    "np.random.random()"
   ]
  },
  {
   "cell_type": "code",
   "execution_count": null,
   "metadata": {},
   "outputs": [],
   "source": []
  },
  {
   "cell_type": "code",
   "execution_count": null,
   "metadata": {},
   "outputs": [],
   "source": [
    "\n"
   ]
  },
  {
   "cell_type": "code",
   "execution_count": 132,
   "metadata": {},
   "outputs": [
    {
     "data": {
      "text/plain": [
       "array([-1, -1, -1, -1, -1])"
      ]
     },
     "execution_count": 132,
     "metadata": {},
     "output_type": "execute_result"
    }
   ],
   "source": [
    "np.array([-1] * 5)"
   ]
  },
  {
   "cell_type": "code",
   "execution_count": null,
   "metadata": {},
   "outputs": [],
   "source": []
  },
  {
   "cell_type": "code",
   "execution_count": 168,
   "metadata": {},
   "outputs": [],
   "source": [
    "def cycle_crossover(problem, solution1, solution2):\n",
    "    \"\"\"\n",
    "    This function takes two parents, and performs Cycle crossover on them. \n",
    "    pc: The probability of crossover (control parameter)\n",
    "    \"\"\"\n",
    "    print(solution1.representation)\n",
    "    \n",
    "    parent1 = deepcopy(list(solution1)) #solution1.clone()\n",
    "    parent2 = deepcopy(list(solution2)) #.clone()\n",
    "    \n",
    "    \"\"\"\n",
    "    parent_one = np.array(solution1.representation())\n",
    "    parent_two = np.array(solution2.representation())\n",
    "    chrom_length = len(solution1.representation())\n",
    "    \n",
    "    P1 = {\n",
    "        'genes': parent_one,\n",
    "        'id': 0,\n",
    "        'fitness': 123.2\n",
    "    }\n",
    "    P2 = {\n",
    "        'genes': parent_two,\n",
    "        'id': 1,\n",
    "        'fitness': 123.2\n",
    "    }\n",
    "    \"\"\"\n",
    "    \n",
    "    #parent_one = Chromosome(genes=np.array(solution1), id_=0, fitness=125.2)\n",
    "    #parent_two = Chromosome(genes=np.array(solution2), id_=1, fitness=125.2)    \n",
    "    \n",
    "    #chrom_length = Chromosome.get_chrom_length(parent_one)\n",
    "    print(\"\\nParents\")\n",
    "    print(\"=================================================\")\n",
    "    #print(P1['genes'])\n",
    "    #print(P2['genes'])\n",
    "    \n",
    "    #Chromosome.describe(parent_one)\n",
    "    #Chromosome.describe(parent_two)\n",
    "    \n",
    "    #offspring1 = Chromosome(genes=np.array([-1] * chrom_length), id_=0, fitness=125.2)\n",
    "    #offspring2 = Chromosome(genes=np.array([-1] * chrom_length), id_=1, fitness=125.2)\n",
    "\n",
    "    offspring1 = np.array([-1] * chrom_length)\n",
    "    offspring2 = np.array([-1] * chrom_length)\n",
    "\n",
    "    \n",
    "    \n",
    "    if np.random.random() < 1:  # if pc is greater than random number\n",
    "        p1_copy = deepcopy(parent1)\n",
    "        p2_copy = deepcopy(parent2)\n",
    "        swap = True\n",
    "        count = 0\n",
    "        pos = 0\n",
    "\n",
    "        while True:\n",
    "            if count > chrom_length:\n",
    "                break\n",
    "            for i in range(chrom_length):\n",
    "                if offspring1[i] == -1:\n",
    "                    pos = i\n",
    "                    break\n",
    "\n",
    "            if swap:\n",
    "                while True:\n",
    "                    #offspring1[pos] = parent1[pos]\n",
    "                    count += 1\n",
    "                    pos = parent2.index(parent1[pos])\n",
    "                    if p1_copy[pos] == -1:\n",
    "                        swap = False\n",
    "                        break\n",
    "                    p1_copy[pos] = -1\n",
    "            else:\n",
    "                while True:\n",
    "                    parent1[pos] = parent2[pos]\n",
    "                    count += 1\n",
    "                    pos = parent1.index(parent2[pos])\n",
    "                    if p2_copy[pos] == -1:\n",
    "                        swap = True\n",
    "                        break\n",
    "                    p2_copy[pos] = -1\n",
    "\n",
    "        for i in range(chrom_length): #for the second child\n",
    "            if offspring1[i] == parent1[i]:\n",
    "                offspring2[i] = parent2[i]\n",
    "            else:\n",
    "                offspring2[i] = parent1[i]\n",
    "\n",
    "        for i in range(chrom_length): #Special mode\n",
    "            if offspring1[i] == -1:\n",
    "                if p1_copy[i] == -1: #it means that the ith gene from p1 has been already transfered\n",
    "                    offspring1[i] = parent2[i]\n",
    "                else:\n",
    "                    offspring1[i] = parent1[i]\n",
    "\n",
    "    else:  # if pc is less than random number then don't make any change\n",
    "        offspring1 = deepcopy(parent_one)\n",
    "        offspring2 = deepcopy(parent_two)\n",
    "    return offspring1, offspring2"
   ]
  },
  {
   "cell_type": "code",
   "execution_count": 169,
   "metadata": {},
   "outputs": [],
   "source": [
    "tsp_encoding_rule = {\n",
    "    \"Size\"         : -1, # It must be defined by the size of DV (Number of products)\n",
    "    \"Is ordered\"   : True,\n",
    "    \"Can repeat\"   : False,\n",
    "    \"Data\"         : [0,0], # must be defined by the data\n",
    "    \"Data Type\"    : \"\"\n",
    "}"
   ]
  },
  {
   "cell_type": "code",
   "execution_count": 170,
   "metadata": {},
   "outputs": [],
   "source": [
    "s1 = [8,4,7,3,6,2,5,1,9,0]\n",
    "s2 = [0,1,2,3,4,5,6,7,8,9]"
   ]
  },
  {
   "cell_type": "code",
   "execution_count": 171,
   "metadata": {},
   "outputs": [],
   "source": [
    "new1 = LinearSolution(representation = s1, encoding_rule = tsp_encoding_rule)\n",
    "\n",
    "new2 = LinearSolution(representation = s2, encoding_rule = tsp_encoding_rule)\n",
    "\n"
   ]
  },
  {
   "cell_type": "code",
   "execution_count": 172,
   "metadata": {},
   "outputs": [],
   "source": [
    "parent1 = new1.representation"
   ]
  },
  {
   "cell_type": "code",
   "execution_count": 173,
   "metadata": {},
   "outputs": [],
   "source": [
    "parent2 = new2.representation"
   ]
  },
  {
   "cell_type": "code",
   "execution_count": null,
   "metadata": {},
   "outputs": [],
   "source": []
  },
  {
   "cell_type": "code",
   "execution_count": 174,
   "metadata": {},
   "outputs": [
    {
     "name": "stdout",
     "output_type": "stream",
     "text": [
      "[8, 4, 7, 3, 6, 2, 5, 1, 9, 0]\n",
      "\n",
      "Parents\n",
      "=================================================\n"
     ]
    },
    {
     "ename": "AttributeError",
     "evalue": "'LinearSolution' object has no attribute 'index'",
     "output_type": "error",
     "traceback": [
      "\u001b[0;31m---------------------------------------------------------------------------\u001b[0m",
      "\u001b[0;31mAttributeError\u001b[0m                            Traceback (most recent call last)",
      "\u001b[0;32m<ipython-input-174-05e5a9f99547>\u001b[0m in \u001b[0;36m<module>\u001b[0;34m\u001b[0m\n\u001b[0;32m----> 1\u001b[0;31m \u001b[0mcycle_crossover\u001b[0m\u001b[0;34m(\u001b[0m\u001b[0mproblem\u001b[0m\u001b[0;34m,\u001b[0m \u001b[0mnew1\u001b[0m\u001b[0;34m,\u001b[0m \u001b[0mnew2\u001b[0m\u001b[0;34m)\u001b[0m\u001b[0;34m\u001b[0m\u001b[0;34m\u001b[0m\u001b[0m\n\u001b[0m",
      "\u001b[0;32m<ipython-input-168-adcc6276ab3c>\u001b[0m in \u001b[0;36mcycle_crossover\u001b[0;34m(problem, solution1, solution2)\u001b[0m\n\u001b[1;32m     65\u001b[0m                     \u001b[0;31m#offspring1[pos] = parent1[pos]\u001b[0m\u001b[0;34m\u001b[0m\u001b[0;34m\u001b[0m\u001b[0;34m\u001b[0m\u001b[0m\n\u001b[1;32m     66\u001b[0m                     \u001b[0mcount\u001b[0m \u001b[0;34m+=\u001b[0m \u001b[0;36m1\u001b[0m\u001b[0;34m\u001b[0m\u001b[0;34m\u001b[0m\u001b[0m\n\u001b[0;32m---> 67\u001b[0;31m                     \u001b[0mpos\u001b[0m \u001b[0;34m=\u001b[0m \u001b[0mparent2\u001b[0m\u001b[0;34m.\u001b[0m\u001b[0mindex\u001b[0m\u001b[0;34m(\u001b[0m\u001b[0mparent1\u001b[0m\u001b[0;34m[\u001b[0m\u001b[0mpos\u001b[0m\u001b[0;34m]\u001b[0m\u001b[0;34m)\u001b[0m\u001b[0;34m\u001b[0m\u001b[0;34m\u001b[0m\u001b[0m\n\u001b[0m\u001b[1;32m     68\u001b[0m                     \u001b[0;32mif\u001b[0m \u001b[0mp1_copy\u001b[0m\u001b[0;34m[\u001b[0m\u001b[0mpos\u001b[0m\u001b[0;34m]\u001b[0m \u001b[0;34m==\u001b[0m \u001b[0;34m-\u001b[0m\u001b[0;36m1\u001b[0m\u001b[0;34m:\u001b[0m\u001b[0;34m\u001b[0m\u001b[0;34m\u001b[0m\u001b[0m\n\u001b[1;32m     69\u001b[0m                         \u001b[0mswap\u001b[0m \u001b[0;34m=\u001b[0m \u001b[0;32mFalse\u001b[0m\u001b[0;34m\u001b[0m\u001b[0;34m\u001b[0m\u001b[0m\n",
      "\u001b[0;31mAttributeError\u001b[0m: 'LinearSolution' object has no attribute 'index'"
     ]
    }
   ],
   "source": [
    "cycle_crossover(problem, new1, new2)"
   ]
  },
  {
   "cell_type": "code",
   "execution_count": 175,
   "metadata": {},
   "outputs": [
    {
     "data": {
      "text/plain": [
       "list"
      ]
     },
     "execution_count": 175,
     "metadata": {},
     "output_type": "execute_result"
    }
   ],
   "source": [
    "type([4,5,6,5])"
   ]
  },
  {
   "cell_type": "code",
   "execution_count": null,
   "metadata": {},
   "outputs": [],
   "source": []
  },
  {
   "cell_type": "code",
   "execution_count": null,
   "metadata": {},
   "outputs": [],
   "source": []
  }
 ],
 "metadata": {
  "kernelspec": {
   "display_name": "Python 3",
   "language": "python",
   "name": "python3"
  },
  "language_info": {
   "codemirror_mode": {
    "name": "ipython",
    "version": 3
   },
   "file_extension": ".py",
   "mimetype": "text/x-python",
   "name": "python",
   "nbconvert_exporter": "python",
   "pygments_lexer": "ipython3",
   "version": "3.7.3"
  }
 },
 "nbformat": 4,
 "nbformat_minor": 2
}
