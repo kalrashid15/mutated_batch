{
 "cells": [
  {
   "cell_type": "code",
   "execution_count": null,
   "metadata": {},
   "outputs": [],
   "source": [
    "\n"
   ]
  },
  {
   "cell_type": "code",
   "execution_count": null,
   "metadata": {},
   "outputs": [],
   "source": []
  },
  {
   "cell_type": "code",
   "execution_count": null,
   "metadata": {},
   "outputs": [],
   "source": []
  },
  {
   "cell_type": "code",
   "execution_count": 93,
   "metadata": {},
   "outputs": [
    {
     "data": {
      "text/plain": [
       "0.23753615679941686"
      ]
     },
     "execution_count": 93,
     "metadata": {},
     "output_type": "execute_result"
    }
   ],
   "source": [
    "np.random.random()"
   ]
  },
  {
   "cell_type": "code",
   "execution_count": null,
   "metadata": {},
   "outputs": [],
   "source": []
  },
  {
   "cell_type": "code",
   "execution_count": null,
   "metadata": {},
   "outputs": [],
   "source": [
    "\n"
   ]
  },
  {
   "cell_type": "code",
   "execution_count": 1,
   "metadata": {},
   "outputs": [],
   "source": [
    "from random import uniform, randint, choices\n",
    "from copy import deepcopy\n",
    "import numpy as np\n",
    "\n",
    "from cifo.problem.objective import ProblemObjective\n",
    "from cifo.problem.solution import EncodingDataType\n",
    "from cifo.problem.population import Population"
   ]
  },
  {
   "cell_type": "code",
   "execution_count": 94,
   "metadata": {},
   "outputs": [
    {
     "ename": "SyntaxError",
     "evalue": "invalid syntax (<ipython-input-94-8c2f2e04ec92>, line 100)",
     "output_type": "error",
     "traceback": [
      "\u001b[0;36m  File \u001b[0;32m\"<ipython-input-94-8c2f2e04ec92>\"\u001b[0;36m, line \u001b[0;32m100\u001b[0m\n\u001b[0;31m    else:  # if pc is less than random number then don't make any change\u001b[0m\n\u001b[0m       ^\u001b[0m\n\u001b[0;31mSyntaxError\u001b[0m\u001b[0;31m:\u001b[0m invalid syntax\n"
     ]
    }
   ],
   "source": [
    "def cycle_crossover(problem, solution1, solution2):\n",
    "    \"\"\"\n",
    "    This function takes two parents, and performs Cycle crossover on them. \n",
    "    pc: The probability of crossover (control parameter)\n",
    "    \"\"\"\n",
    "    print(solution1.representation)\n",
    "    \n",
    "    parent_one = np.array(solution1.representation())\n",
    "    parent_two = np.array(solution2.representation())\n",
    "    chrom_length = len(solution1.representation())\n",
    "    \n",
    "    P1 = {\n",
    "        'genes': parent_one,\n",
    "        'id': 0,\n",
    "        'fitness': 123.2\n",
    "    }\n",
    "    P2 = {\n",
    "        'genes': parent_two,\n",
    "        'id': 1,\n",
    "        'fitness': 123.2\n",
    "    }\n",
    "    \n",
    "    #parent_one = Chromosome(genes=np.array(solution1), id_=0, fitness=125.2)\n",
    "    #parent_two = Chromosome(genes=np.array(solution2), id_=1, fitness=125.2)    \n",
    "    \n",
    "    #chrom_length = Chromosome.get_chrom_length(parent_one)\n",
    "    print(\"\\nParents\")\n",
    "    print(\"=================================================\")\n",
    "    print(P1['genes'])\n",
    "    print(P2['genes'])\n",
    "    \n",
    "    #Chromosome.describe(parent_one)\n",
    "    #Chromosome.describe(parent_two)\n",
    "    \n",
    "    #offspring1 = Chromosome(genes=np.array([-1] * chrom_length), id_=0, fitness=125.2)\n",
    "    #offspring2 = Chromosome(genes=np.array([-1] * chrom_length), id_=1, fitness=125.2)\n",
    "\n",
    "    Off1 = {\n",
    "        'genes': np.array([-1] * chrom_length),\n",
    "        'id': 0,\n",
    "        'fitness': 132.2\n",
    "    }\n",
    "    \n",
    "    Off2 = {\n",
    "        'genes': np.array([-1] * chrom_length),\n",
    "        'id': 1,\n",
    "        'fitness': 132.2\n",
    "    }\n",
    "    \n",
    "    \n",
    "    \n",
    "    if np.random.random() < 1:  # if pc is greater than random number\n",
    "        p1_copy = P1['genes'].tolist()\n",
    "        p2_copy = P2['genes'].tolist()\n",
    "        swap = True\n",
    "        count = 0\n",
    "        pos = 0\n",
    "\n",
    "        while True:\n",
    "            if count > chrom_length:\n",
    "                break\n",
    "            for i in range(chrom_length):\n",
    "                if Off1['genes'][i] == -1:\n",
    "                    pos = i\n",
    "                    break\n",
    "\n",
    "            if swap:\n",
    "                while True:\n",
    "                    Off1['genes'][pos] = P1['genes'][pos]\n",
    "                    count += 1\n",
    "                    pos = P2['genes'].tolist().index(P1['genes'][pos])\n",
    "                    if p1_copy[pos] == -1:\n",
    "                        swap = False\n",
    "                        break\n",
    "                    p1_copy[pos] = -1\n",
    "            else:\n",
    "                while True:\n",
    "                    Off1['genes'][pos] = P2['genes'][pos]\n",
    "                    count += 1\n",
    "                    pos = P1['genes'].tolist().index(P2['genes'][pos])\n",
    "                    if p2_copy[pos] == -1:\n",
    "                        swap = True\n",
    "                        break\n",
    "                    p2_copy[pos] = -1\n",
    "\n",
    "        for i in range(chrom_length): #for the second child\n",
    "            if Off1['genes'][i] == P1['genes'][i]:\n",
    "                Off2['genes'][i] = P2['genes'][i]\n",
    "            else:\n",
    "                Off2['genes'][i] = P1['genes'][i]\n",
    "\n",
    "        for i in range(chrom_length): #Special mode\n",
    "            if Off1['genes'][i] == -1:\n",
    "                if p1_copy[i] == -1: #it means that the ith gene from p1 has been already transfered\n",
    "                    Off1['genes'][i] = P2['genes'][i]\n",
    "                else:\n",
    "                    Off1['genes'][i] = P1['genes'][i]\n",
    "        offspring1 = Off1['genes']\n",
    "        offspring2 = Off2['genes']\n",
    "\n",
    "    else:  # if pc is less than random number then don't make any change\n",
    "        offspring1 = deepcopy(parent_one)\n",
    "        offspring2 = deepcopy(parent_two)\n",
    "    return offspring1, offspring2"
   ]
  },
  {
   "cell_type": "code",
   "execution_count": 87,
   "metadata": {},
   "outputs": [],
   "source": [
    "class solution:\n",
    "\n",
    "    def __init__(self, array):\n",
    "        self.array = array\n",
    "    \n",
    "    def representation(self):\n",
    "        return self.array\n",
    "    "
   ]
  },
  {
   "cell_type": "code",
   "execution_count": 88,
   "metadata": {},
   "outputs": [],
   "source": [
    "new1 = solution([2,9,3,5,7,1,4,6,8])"
   ]
  },
  {
   "cell_type": "code",
   "execution_count": 89,
   "metadata": {},
   "outputs": [
    {
     "data": {
      "text/plain": [
       "[2, 9, 3, 5, 7, 1, 4, 6, 8]"
      ]
     },
     "execution_count": 89,
     "metadata": {},
     "output_type": "execute_result"
    }
   ],
   "source": [
    "new1.representation()"
   ]
  },
  {
   "cell_type": "code",
   "execution_count": 90,
   "metadata": {},
   "outputs": [],
   "source": [
    "new2 = solution([3,4,1,9,6,2,8,7,5])"
   ]
  },
  {
   "cell_type": "code",
   "execution_count": 91,
   "metadata": {},
   "outputs": [],
   "source": [
    "problem = True"
   ]
  },
  {
   "cell_type": "code",
   "execution_count": 92,
   "metadata": {},
   "outputs": [
    {
     "name": "stdout",
     "output_type": "stream",
     "text": [
      "<bound method solution.representation of <__main__.solution object at 0x7f649df7b7f0>>\n",
      "\n",
      "Parents\n",
      "=================================================\n",
      "[2 9 3 5 7 1 4 6 8]\n",
      "[3 4 1 9 6 2 8 7 5]\n"
     ]
    },
    {
     "data": {
      "text/plain": [
       "(array([2, 4, 3, 9, 7, 1, 8, 6, 5]), array([2, 9, 3, 5, 7, 1, 4, 6, 8]))"
      ]
     },
     "execution_count": 92,
     "metadata": {},
     "output_type": "execute_result"
    }
   ],
   "source": [
    "cycle_crossover(problem, new1, new2)"
   ]
  },
  {
   "cell_type": "code",
   "execution_count": null,
   "metadata": {},
   "outputs": [],
   "source": []
  }
 ],
 "metadata": {
  "kernelspec": {
   "display_name": "Python 3",
   "language": "python",
   "name": "python3"
  },
  "language_info": {
   "codemirror_mode": {
    "name": "ipython",
    "version": 3
   },
   "file_extension": ".py",
   "mimetype": "text/x-python",
   "name": "python",
   "nbconvert_exporter": "python",
   "pygments_lexer": "ipython3",
   "version": "3.7.3"
  }
 },
 "nbformat": 4,
 "nbformat_minor": 2
}
